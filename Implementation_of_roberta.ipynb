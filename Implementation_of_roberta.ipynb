{
 "cells": [
  {
   "cell_type": "code",
   "execution_count": 1,
   "id": "974f3634",
   "metadata": {
    "_cell_guid": "b1076dfc-b9ad-4769-8c92-a6c4dae69d19",
    "_uuid": "8f2839f25d086af736a60e9eeb907d3b93b6e0e5",
    "execution": {
     "iopub.execute_input": "2024-01-15T07:26:51.601260Z",
     "iopub.status.busy": "2024-01-15T07:26:51.600696Z",
     "iopub.status.idle": "2024-01-15T07:26:52.084299Z",
     "shell.execute_reply": "2024-01-15T07:26:52.082875Z"
    },
    "papermill": {
     "duration": 0.500292,
     "end_time": "2024-01-15T07:26:52.089873",
     "exception": false,
     "start_time": "2024-01-15T07:26:51.589581",
     "status": "completed"
    },
    "tags": []
   },
   "outputs": [
    {
     "name": "stdout",
     "output_type": "stream",
     "text": [
      "/kaggle/input/llm-detect-ai-generated-text/sample_submission.csv\n",
      "/kaggle/input/llm-detect-ai-generated-text/train_prompts.csv\n",
      "/kaggle/input/llm-detect-ai-generated-text/test_essays.csv\n",
      "/kaggle/input/llm-detect-ai-generated-text/train_essays.csv\n",
      "/kaggle/input/distil_bert/keras/distil_bert_base_en_uncased/2/config.json\n",
      "/kaggle/input/distil_bert/keras/distil_bert_base_en_uncased/2/tokenizer.json\n",
      "/kaggle/input/distil_bert/keras/distil_bert_base_en_uncased/2/metadata.json\n",
      "/kaggle/input/distil_bert/keras/distil_bert_base_en_uncased/2/model.weights.h5\n",
      "/kaggle/input/distil_bert/keras/distil_bert_base_en_uncased/2/assets/tokenizer/vocabulary.txt\n",
      "/kaggle/input/palm-essay-gen-itr1/Palm_gen_essay_1.csv\n",
      "/kaggle/input/roberta/tensorflow2/en-cased-preprocess/1/saved_model.pb\n",
      "/kaggle/input/roberta/tensorflow2/en-cased-preprocess/1/keras_metadata.pb\n",
      "/kaggle/input/roberta/tensorflow2/en-cased-preprocess/1/variables/variables.index\n",
      "/kaggle/input/roberta/tensorflow2/en-cased-preprocess/1/variables/variables.data-00000-of-00001\n",
      "/kaggle/input/roberta/tensorflow2/en-cased-l-12-h-768-a-12/1/saved_model.pb\n",
      "/kaggle/input/roberta/tensorflow2/en-cased-l-12-h-768-a-12/1/keras_metadata.pb\n",
      "/kaggle/input/roberta/tensorflow2/en-cased-l-12-h-768-a-12/1/variables/variables.index\n",
      "/kaggle/input/roberta/tensorflow2/en-cased-l-12-h-768-a-12/1/variables/variables.data-00000-of-00001\n",
      "/kaggle/input/bert/tensorflow2/en-uncased-preprocess/3/saved_model.pb\n",
      "/kaggle/input/bert/tensorflow2/en-uncased-preprocess/3/keras_metadata.pb\n",
      "/kaggle/input/bert/tensorflow2/en-uncased-preprocess/3/assets/vocab.txt\n",
      "/kaggle/input/bert/tensorflow2/en-uncased-preprocess/3/variables/variables.index\n",
      "/kaggle/input/bert/tensorflow2/en-uncased-preprocess/3/variables/variables.data-00000-of-00001\n",
      "/kaggle/input/bert/tensorflow2/bert-en-uncased-l-10-h-512-a-8/2/saved_model.pb\n",
      "/kaggle/input/bert/tensorflow2/bert-en-uncased-l-10-h-512-a-8/2/keras_metadata.pb\n",
      "/kaggle/input/bert/tensorflow2/bert-en-uncased-l-10-h-512-a-8/2/assets/vocab.txt\n",
      "/kaggle/input/bert/tensorflow2/bert-en-uncased-l-10-h-512-a-8/2/variables/variables.index\n",
      "/kaggle/input/bert/tensorflow2/bert-en-uncased-l-10-h-512-a-8/2/variables/variables.data-00000-of-00001\n",
      "/kaggle/input/bert/keras/bert_base_en/2/config.json\n",
      "/kaggle/input/bert/keras/bert_base_en/2/tokenizer.json\n",
      "/kaggle/input/bert/keras/bert_base_en/2/metadata.json\n",
      "/kaggle/input/bert/keras/bert_base_en/2/model.weights.h5\n",
      "/kaggle/input/bert/keras/bert_base_en/2/assets/tokenizer/vocabulary.txt\n",
      "/kaggle/input/palm-generated-2/Palm_gen_essay_2.csv\n"
     ]
    }
   ],
   "source": [
    "# This Python 3 environment comes with many helpful analytics libraries installed\n",
    "# It is defined by the kaggle/python Docker image: https://github.com/kaggle/docker-python\n",
    "# For example, here's several helpful packages to load\n",
    "\n",
    "import numpy as np # linear algebra\n",
    "import pandas as pd # data processing, CSV file I/O (e.g. pd.read_csv)\n",
    "\n",
    "# Input data files are available in the read-only \"../input/\" directory\n",
    "# For example, running this (by clicking run or pressing Shift+Enter) will list all files under the input directory\n",
    "\n",
    "import os\n",
    "for dirname, _, filenames in os.walk('/kaggle/input'):\n",
    "    for filename in filenames:\n",
    "        print(os.path.join(dirname, filename))\n",
    "\n",
    "# You can write up to 20GB to the current directory (/kaggle/working/) that gets preserved as output when you create a version using \"Save & Run All\" \n",
    "# You can also write temporary files to /kaggle/temp/, but they won't be saved outside of the current session"
   ]
  },
  {
   "cell_type": "code",
   "execution_count": 2,
   "id": "cf1daec5",
   "metadata": {
    "execution": {
     "iopub.execute_input": "2024-01-15T07:26:52.113977Z",
     "iopub.status.busy": "2024-01-15T07:26:52.113415Z",
     "iopub.status.idle": "2024-01-15T07:27:17.058448Z",
     "shell.execute_reply": "2024-01-15T07:27:17.057147Z"
    },
    "papermill": {
     "duration": 24.958273,
     "end_time": "2024-01-15T07:27:17.061387",
     "exception": false,
     "start_time": "2024-01-15T07:26:52.103114",
     "status": "completed"
    },
    "tags": []
   },
   "outputs": [],
   "source": [
    "import numpy as np\n",
    "import pandas as pd\n",
    "from matplotlib import pyplot as plt\n",
    "import tensorflow as tf\n",
    "from tensorflow import keras\n",
    "from tensorflow.keras import layers,models\n",
    "import seaborn as sns\n",
    "import nltk\n",
    "from nltk.corpus import stopwords\n",
    "import string\n",
    "from nltk.stem.snowball import SnowballStemmer\n",
    "from sklearn.feature_extraction.text import CountVectorizer\n",
    "snowball = SnowballStemmer(language='english')\n",
    "from sklearn.model_selection import train_test_split\n",
    "from sklearn.ensemble import GradientBoostingClassifier as XGB\n",
    "from sklearn.metrics import confusion_matrix\n",
    "from sklearn.svm import SVC\n",
    "import transformers\n",
    "from transformers import DistilBertTokenizer, TFDistilBertModel\n",
    "from transformers import TFDistilBertForSequenceClassification, DistilBertConfig\n",
    "from numba import cuda\n",
    "from nltk.tokenize import word_tokenize\n",
    "import tensorflow_text as tftext\n",
    "import tensorflow_hub as tfhub"
   ]
  },
  {
   "cell_type": "code",
   "execution_count": 3,
   "id": "94c1f06a",
   "metadata": {
    "execution": {
     "iopub.execute_input": "2024-01-15T07:27:17.082357Z",
     "iopub.status.busy": "2024-01-15T07:27:17.081534Z",
     "iopub.status.idle": "2024-01-15T07:27:17.214631Z",
     "shell.execute_reply": "2024-01-15T07:27:17.213479Z"
    },
    "papermill": {
     "duration": 0.147056,
     "end_time": "2024-01-15T07:27:17.217271",
     "exception": false,
     "start_time": "2024-01-15T07:27:17.070215",
     "status": "completed"
    },
    "tags": []
   },
   "outputs": [
    {
     "data": {
      "text/html": [
       "<div>\n",
       "<style scoped>\n",
       "    .dataframe tbody tr th:only-of-type {\n",
       "        vertical-align: middle;\n",
       "    }\n",
       "\n",
       "    .dataframe tbody tr th {\n",
       "        vertical-align: top;\n",
       "    }\n",
       "\n",
       "    .dataframe thead th {\n",
       "        text-align: right;\n",
       "    }\n",
       "</style>\n",
       "<table border=\"1\" class=\"dataframe\">\n",
       "  <thead>\n",
       "    <tr style=\"text-align: right;\">\n",
       "      <th></th>\n",
       "      <th>id</th>\n",
       "      <th>prompt_id</th>\n",
       "      <th>text</th>\n",
       "      <th>generated</th>\n",
       "    </tr>\n",
       "  </thead>\n",
       "  <tbody>\n",
       "    <tr>\n",
       "      <th>0</th>\n",
       "      <td>0059830c</td>\n",
       "      <td>0</td>\n",
       "      <td>Cars. Cars have been around since they became ...</td>\n",
       "      <td>0</td>\n",
       "    </tr>\n",
       "    <tr>\n",
       "      <th>1</th>\n",
       "      <td>005db917</td>\n",
       "      <td>0</td>\n",
       "      <td>Transportation is a large necessity in most co...</td>\n",
       "      <td>0</td>\n",
       "    </tr>\n",
       "    <tr>\n",
       "      <th>2</th>\n",
       "      <td>008f63e3</td>\n",
       "      <td>0</td>\n",
       "      <td>\"America's love affair with it's vehicles seem...</td>\n",
       "      <td>0</td>\n",
       "    </tr>\n",
       "    <tr>\n",
       "      <th>3</th>\n",
       "      <td>00940276</td>\n",
       "      <td>0</td>\n",
       "      <td>How often do you ride in a car? Do you drive a...</td>\n",
       "      <td>0</td>\n",
       "    </tr>\n",
       "    <tr>\n",
       "      <th>4</th>\n",
       "      <td>00c39458</td>\n",
       "      <td>0</td>\n",
       "      <td>Cars are a wonderful thing. They are perhaps o...</td>\n",
       "      <td>0</td>\n",
       "    </tr>\n",
       "    <tr>\n",
       "      <th>...</th>\n",
       "      <td>...</td>\n",
       "      <td>...</td>\n",
       "      <td>...</td>\n",
       "      <td>...</td>\n",
       "    </tr>\n",
       "    <tr>\n",
       "      <th>1373</th>\n",
       "      <td>fe6ff9a5</td>\n",
       "      <td>1</td>\n",
       "      <td>There has been a fuss about the Elector Colleg...</td>\n",
       "      <td>0</td>\n",
       "    </tr>\n",
       "    <tr>\n",
       "      <th>1374</th>\n",
       "      <td>ff669174</td>\n",
       "      <td>0</td>\n",
       "      <td>Limiting car usage has many advantages. Such a...</td>\n",
       "      <td>0</td>\n",
       "    </tr>\n",
       "    <tr>\n",
       "      <th>1375</th>\n",
       "      <td>ffa247e0</td>\n",
       "      <td>0</td>\n",
       "      <td>There's a new trend that has been developing f...</td>\n",
       "      <td>0</td>\n",
       "    </tr>\n",
       "    <tr>\n",
       "      <th>1376</th>\n",
       "      <td>ffc237e9</td>\n",
       "      <td>0</td>\n",
       "      <td>As we all know cars are a big part of our soci...</td>\n",
       "      <td>0</td>\n",
       "    </tr>\n",
       "    <tr>\n",
       "      <th>1377</th>\n",
       "      <td>ffe1ca0d</td>\n",
       "      <td>0</td>\n",
       "      <td>Cars have been around since the 1800's and hav...</td>\n",
       "      <td>0</td>\n",
       "    </tr>\n",
       "  </tbody>\n",
       "</table>\n",
       "<p>1378 rows × 4 columns</p>\n",
       "</div>"
      ],
      "text/plain": [
       "            id  prompt_id                                               text  \\\n",
       "0     0059830c          0  Cars. Cars have been around since they became ...   \n",
       "1     005db917          0  Transportation is a large necessity in most co...   \n",
       "2     008f63e3          0  \"America's love affair with it's vehicles seem...   \n",
       "3     00940276          0  How often do you ride in a car? Do you drive a...   \n",
       "4     00c39458          0  Cars are a wonderful thing. They are perhaps o...   \n",
       "...        ...        ...                                                ...   \n",
       "1373  fe6ff9a5          1  There has been a fuss about the Elector Colleg...   \n",
       "1374  ff669174          0  Limiting car usage has many advantages. Such a...   \n",
       "1375  ffa247e0          0  There's a new trend that has been developing f...   \n",
       "1376  ffc237e9          0  As we all know cars are a big part of our soci...   \n",
       "1377  ffe1ca0d          0  Cars have been around since the 1800's and hav...   \n",
       "\n",
       "      generated  \n",
       "0             0  \n",
       "1             0  \n",
       "2             0  \n",
       "3             0  \n",
       "4             0  \n",
       "...         ...  \n",
       "1373          0  \n",
       "1374          0  \n",
       "1375          0  \n",
       "1376          0  \n",
       "1377          0  \n",
       "\n",
       "[1378 rows x 4 columns]"
      ]
     },
     "execution_count": 3,
     "metadata": {},
     "output_type": "execute_result"
    }
   ],
   "source": [
    "train_csv = pd.read_csv('/kaggle/input/llm-detect-ai-generated-text/train_essays.csv')\n",
    "train_csv"
   ]
  },
  {
   "cell_type": "code",
   "execution_count": 4,
   "id": "3b6061cf",
   "metadata": {
    "execution": {
     "iopub.execute_input": "2024-01-15T07:27:17.237839Z",
     "iopub.status.busy": "2024-01-15T07:27:17.237446Z",
     "iopub.status.idle": "2024-01-15T07:27:17.264484Z",
     "shell.execute_reply": "2024-01-15T07:27:17.263096Z"
    },
    "papermill": {
     "duration": 0.041081,
     "end_time": "2024-01-15T07:27:17.267748",
     "exception": false,
     "start_time": "2024-01-15T07:27:17.226667",
     "status": "completed"
    },
    "tags": []
   },
   "outputs": [
    {
     "name": "stdout",
     "output_type": "stream",
     "text": [
      "<class 'pandas.core.frame.DataFrame'>\n",
      "RangeIndex: 1378 entries, 0 to 1377\n",
      "Data columns (total 4 columns):\n",
      " #   Column     Non-Null Count  Dtype \n",
      "---  ------     --------------  ----- \n",
      " 0   id         1378 non-null   object\n",
      " 1   prompt_id  1378 non-null   int64 \n",
      " 2   text       1378 non-null   object\n",
      " 3   generated  1378 non-null   int64 \n",
      "dtypes: int64(2), object(2)\n",
      "memory usage: 43.2+ KB\n"
     ]
    }
   ],
   "source": [
    "train_csv.info()"
   ]
  },
  {
   "cell_type": "code",
   "execution_count": 5,
   "id": "c9a679cd",
   "metadata": {
    "execution": {
     "iopub.execute_input": "2024-01-15T07:27:17.288610Z",
     "iopub.status.busy": "2024-01-15T07:27:17.287883Z",
     "iopub.status.idle": "2024-01-15T07:27:17.366254Z",
     "shell.execute_reply": "2024-01-15T07:27:17.365396Z"
    },
    "papermill": {
     "duration": 0.091688,
     "end_time": "2024-01-15T07:27:17.368681",
     "exception": false,
     "start_time": "2024-01-15T07:27:17.276993",
     "status": "completed"
    },
    "tags": []
   },
   "outputs": [
    {
     "data": {
      "text/html": [
       "<div>\n",
       "<style scoped>\n",
       "    .dataframe tbody tr th:only-of-type {\n",
       "        vertical-align: middle;\n",
       "    }\n",
       "\n",
       "    .dataframe tbody tr th {\n",
       "        vertical-align: top;\n",
       "    }\n",
       "\n",
       "    .dataframe thead th {\n",
       "        text-align: right;\n",
       "    }\n",
       "</style>\n",
       "<table border=\"1\" class=\"dataframe\">\n",
       "  <thead>\n",
       "    <tr style=\"text-align: right;\">\n",
       "      <th></th>\n",
       "      <th>id</th>\n",
       "      <th>prompt_id</th>\n",
       "      <th>text</th>\n",
       "      <th>generated</th>\n",
       "    </tr>\n",
       "  </thead>\n",
       "  <tbody>\n",
       "    <tr>\n",
       "      <th>0</th>\n",
       "      <td>0</td>\n",
       "      <td>0.0</td>\n",
       "      <td>In the United States, we are a car-dependent s...</td>\n",
       "      <td>1.0</td>\n",
       "    </tr>\n",
       "    <tr>\n",
       "      <th>1</th>\n",
       "      <td>1</td>\n",
       "      <td>0.0</td>\n",
       "      <td>In recent years, there has been a growing tren...</td>\n",
       "      <td>1.0</td>\n",
       "    </tr>\n",
       "    <tr>\n",
       "      <th>2</th>\n",
       "      <td>2</td>\n",
       "      <td>0.0</td>\n",
       "      <td>Limiting car usage has many advantages. It can...</td>\n",
       "      <td>1.0</td>\n",
       "    </tr>\n",
       "    <tr>\n",
       "      <th>3</th>\n",
       "      <td>3</td>\n",
       "      <td>0.0</td>\n",
       "      <td>In recent years, there has been a growing move...</td>\n",
       "      <td>1.0</td>\n",
       "    </tr>\n",
       "    <tr>\n",
       "      <th>4</th>\n",
       "      <td>4</td>\n",
       "      <td>0.0</td>\n",
       "      <td>Limiting car usage has many advantages. It can...</td>\n",
       "      <td>1.0</td>\n",
       "    </tr>\n",
       "  </tbody>\n",
       "</table>\n",
       "</div>"
      ],
      "text/plain": [
       "   id  prompt_id                                               text  generated\n",
       "0   0        0.0  In the United States, we are a car-dependent s...        1.0\n",
       "1   1        0.0  In recent years, there has been a growing tren...        1.0\n",
       "2   2        0.0  Limiting car usage has many advantages. It can...        1.0\n",
       "3   3        0.0  In recent years, there has been a growing move...        1.0\n",
       "4   4        0.0  Limiting car usage has many advantages. It can...        1.0"
      ]
     },
     "execution_count": 5,
     "metadata": {},
     "output_type": "execute_result"
    }
   ],
   "source": [
    "palm_gen_essay =pd.read_csv('/kaggle/input/palm-generated-2/Palm_gen_essay_2.csv')\n",
    "palm_gen_essay.head()"
   ]
  },
  {
   "cell_type": "code",
   "execution_count": 6,
   "id": "a58932a3",
   "metadata": {
    "execution": {
     "iopub.execute_input": "2024-01-15T07:27:17.390721Z",
     "iopub.status.busy": "2024-01-15T07:27:17.389977Z",
     "iopub.status.idle": "2024-01-15T07:27:17.402126Z",
     "shell.execute_reply": "2024-01-15T07:27:17.400714Z"
    },
    "papermill": {
     "duration": 0.025893,
     "end_time": "2024-01-15T07:27:17.404808",
     "exception": false,
     "start_time": "2024-01-15T07:27:17.378915",
     "status": "completed"
    },
    "tags": []
   },
   "outputs": [
    {
     "name": "stdout",
     "output_type": "stream",
     "text": [
      "<class 'pandas.core.frame.DataFrame'>\n",
      "RangeIndex: 1255 entries, 0 to 1254\n",
      "Data columns (total 4 columns):\n",
      " #   Column     Non-Null Count  Dtype  \n",
      "---  ------     --------------  -----  \n",
      " 0   id         1255 non-null   int64  \n",
      " 1   prompt_id  1255 non-null   float64\n",
      " 2   text       1255 non-null   object \n",
      " 3   generated  1255 non-null   float64\n",
      "dtypes: float64(2), int64(1), object(1)\n",
      "memory usage: 39.3+ KB\n"
     ]
    }
   ],
   "source": [
    "palm_gen_essay.info()"
   ]
  },
  {
   "cell_type": "code",
   "execution_count": 7,
   "id": "d8680dfb",
   "metadata": {
    "execution": {
     "iopub.execute_input": "2024-01-15T07:27:17.426239Z",
     "iopub.status.busy": "2024-01-15T07:27:17.425802Z",
     "iopub.status.idle": "2024-01-15T07:27:17.432529Z",
     "shell.execute_reply": "2024-01-15T07:27:17.431569Z"
    },
    "papermill": {
     "duration": 0.020026,
     "end_time": "2024-01-15T07:27:17.434853",
     "exception": false,
     "start_time": "2024-01-15T07:27:17.414827",
     "status": "completed"
    },
    "tags": []
   },
   "outputs": [],
   "source": [
    "palm_gen_essay['generated'] = palm_gen_essay['generated'].astype('int64')"
   ]
  },
  {
   "cell_type": "code",
   "execution_count": 8,
   "id": "4cfc81f4",
   "metadata": {
    "execution": {
     "iopub.execute_input": "2024-01-15T07:27:17.455987Z",
     "iopub.status.busy": "2024-01-15T07:27:17.455326Z",
     "iopub.status.idle": "2024-01-15T07:27:17.468222Z",
     "shell.execute_reply": "2024-01-15T07:27:17.466953Z"
    },
    "papermill": {
     "duration": 0.026267,
     "end_time": "2024-01-15T07:27:17.470653",
     "exception": false,
     "start_time": "2024-01-15T07:27:17.444386",
     "status": "completed"
    },
    "tags": []
   },
   "outputs": [
    {
     "data": {
      "text/plain": [
       "(2633, 2)"
      ]
     },
     "execution_count": 8,
     "metadata": {},
     "output_type": "execute_result"
    }
   ],
   "source": [
    "# Concatenate on specific columns (e.g., 'A' and 'B')\n",
    "data = pd.concat([train_csv[['text','generated']], palm_gen_essay[['text','generated']]], axis=0, join='outer')\n",
    "data.shape\n"
   ]
  },
  {
   "cell_type": "code",
   "execution_count": 9,
   "id": "aa11b4f2",
   "metadata": {
    "execution": {
     "iopub.execute_input": "2024-01-15T07:27:17.492847Z",
     "iopub.status.busy": "2024-01-15T07:27:17.492144Z",
     "iopub.status.idle": "2024-01-15T07:27:17.502732Z",
     "shell.execute_reply": "2024-01-15T07:27:17.501592Z"
    },
    "papermill": {
     "duration": 0.02489,
     "end_time": "2024-01-15T07:27:17.505081",
     "exception": false,
     "start_time": "2024-01-15T07:27:17.480191",
     "status": "completed"
    },
    "tags": []
   },
   "outputs": [
    {
     "data": {
      "text/html": [
       "<div>\n",
       "<style scoped>\n",
       "    .dataframe tbody tr th:only-of-type {\n",
       "        vertical-align: middle;\n",
       "    }\n",
       "\n",
       "    .dataframe tbody tr th {\n",
       "        vertical-align: top;\n",
       "    }\n",
       "\n",
       "    .dataframe thead th {\n",
       "        text-align: right;\n",
       "    }\n",
       "</style>\n",
       "<table border=\"1\" class=\"dataframe\">\n",
       "  <thead>\n",
       "    <tr style=\"text-align: right;\">\n",
       "      <th></th>\n",
       "      <th>text</th>\n",
       "      <th>generated</th>\n",
       "    </tr>\n",
       "  </thead>\n",
       "  <tbody>\n",
       "    <tr>\n",
       "      <th>0</th>\n",
       "      <td>Cars. Cars have been around since they became ...</td>\n",
       "      <td>0</td>\n",
       "    </tr>\n",
       "    <tr>\n",
       "      <th>1</th>\n",
       "      <td>Transportation is a large necessity in most co...</td>\n",
       "      <td>0</td>\n",
       "    </tr>\n",
       "    <tr>\n",
       "      <th>2</th>\n",
       "      <td>\"America's love affair with it's vehicles seem...</td>\n",
       "      <td>0</td>\n",
       "    </tr>\n",
       "    <tr>\n",
       "      <th>3</th>\n",
       "      <td>How often do you ride in a car? Do you drive a...</td>\n",
       "      <td>0</td>\n",
       "    </tr>\n",
       "    <tr>\n",
       "      <th>4</th>\n",
       "      <td>Cars are a wonderful thing. They are perhaps o...</td>\n",
       "      <td>0</td>\n",
       "    </tr>\n",
       "  </tbody>\n",
       "</table>\n",
       "</div>"
      ],
      "text/plain": [
       "                                                text  generated\n",
       "0  Cars. Cars have been around since they became ...          0\n",
       "1  Transportation is a large necessity in most co...          0\n",
       "2  \"America's love affair with it's vehicles seem...          0\n",
       "3  How often do you ride in a car? Do you drive a...          0\n",
       "4  Cars are a wonderful thing. They are perhaps o...          0"
      ]
     },
     "execution_count": 9,
     "metadata": {},
     "output_type": "execute_result"
    }
   ],
   "source": [
    "data.head()"
   ]
  },
  {
   "cell_type": "code",
   "execution_count": 10,
   "id": "494dac45",
   "metadata": {
    "execution": {
     "iopub.execute_input": "2024-01-15T07:27:17.527036Z",
     "iopub.status.busy": "2024-01-15T07:27:17.526385Z",
     "iopub.status.idle": "2024-01-15T07:27:41.799839Z",
     "shell.execute_reply": "2024-01-15T07:27:41.798572Z"
    },
    "papermill": {
     "duration": 24.291632,
     "end_time": "2024-01-15T07:27:41.806532",
     "exception": false,
     "start_time": "2024-01-15T07:27:17.514900",
     "status": "completed"
    },
    "tags": []
   },
   "outputs": [
    {
     "name": "stderr",
     "output_type": "stream",
     "text": [
      "Attaching model 'kaggle/roberta/tensorflow2/en-cased-preprocess/1' to your Kaggle notebook...\n",
      "normalizer.cc(51) LOG(INFO) precompiled_charsmap is empty. use identity normalization.\n",
      "Attaching model 'kaggle/roberta/tensorflow2/en-cased-l-12-h-768-a-12/1' to your Kaggle notebook...\n"
     ]
    },
    {
     "name": "stdout",
     "output_type": "stream",
     "text": [
      "Model: \"model\"\n",
      "__________________________________________________________________________________________________\n",
      " Layer (type)                Output Shape                 Param #   Connected to                  \n",
      "==================================================================================================\n",
      " input_1 (InputLayer)        [(None,)]                    0         []                            \n",
      "                                                                                                  \n",
      " keras_layer (KerasLayer)    {'input_mask': (None, 128)   0         ['input_1[0][0]']             \n",
      "                             , 'input_word_ids': (None,                                           \n",
      "                              128),                                                               \n",
      "                              'input_type_ids': (None,                                            \n",
      "                             128)}                                                                \n",
      "                                                                                                  \n",
      " keras_layer_1 (KerasLayer)  {'encoder_outputs': [(None   1246440   ['keras_layer[0][0]',         \n",
      "                             , 128, 768),                 96         'keras_layer[0][1]',         \n",
      "                              (None, 128, 768),                      'keras_layer[0][2]']         \n",
      "                              (None, 128, 768),                                                   \n",
      "                              (None, 128, 768),                                                   \n",
      "                              (None, 128, 768),                                                   \n",
      "                              (None, 128, 768),                                                   \n",
      "                              (None, 128, 768),                                                   \n",
      "                              (None, 128, 768),                                                   \n",
      "                              (None, 128, 768),                                                   \n",
      "                              (None, 128, 768),                                                   \n",
      "                              (None, 128, 768),                                                   \n",
      "                              (None, 128, 768)],                                                  \n",
      "                              'sequence_output': (None,                                           \n",
      "                              128, 768),                                                          \n",
      "                              'pooled_output': (None, 7                                           \n",
      "                             68)}                                                                 \n",
      "                                                                                                  \n",
      " dropout1 (Dropout)          (None, 768)                  0         ['keras_layer_1[0][12]']      \n",
      "                                                                                                  \n",
      " dense_1 (Dense)             (None, 64)                   49216     ['dropout1[0][0]']            \n",
      "                                                                                                  \n",
      " dropout2 (Dropout)          (None, 64)                   0         ['dense_1[0][0]']             \n",
      "                                                                                                  \n",
      " output (Dense)              (None, 1)                    65        ['dropout2[0][0]']            \n",
      "                                                                                                  \n",
      "==================================================================================================\n",
      "Total params: 124693377 (475.67 MB)\n",
      "Trainable params: 124693377 (475.67 MB)\n",
      "Non-trainable params: 0 (0.00 Byte)\n",
      "__________________________________________________________________________________________________\n"
     ]
    }
   ],
   "source": [
    "# define a text embedding model\n",
    "text_input = tf.keras.layers.Input(shape=(), dtype=tf.string)\n",
    "preprocessor = tfhub.KerasLayer(\"https://kaggle.com/models/kaggle/roberta/frameworks/TensorFlow2/variations/en-cased-preprocess/versions/1\")\n",
    "encoder_inputs = preprocessor(text_input)\n",
    "\n",
    "encoder = tfhub.KerasLayer(\"https://www.kaggle.com/models/kaggle/roberta/frameworks/TensorFlow2/variations/en-cased-l-12-h-768-a-12/versions/1\", trainable=True)\n",
    "outputs = encoder(encoder_inputs)\n",
    "pooled_output = outputs[\"pooled_output\"]      \n",
    "sequence_output = outputs[\"sequence_output\"] \n",
    "\n",
    "dense_1 = tf.keras.layers.Dense(128 , activation='relu')(pooled_output)\n",
    "dropout = tf.keras.layers.Dropout(0.7 , name=\"dropout1\")(pooled_output)\n",
    "dense_2 = tf.keras.layers.Dense(64 , activation='relu')(dropout)\n",
    "dropout1 = tf.keras.layers.Dropout(0.5 , name=\"dropout2\")(dense_2)\n",
    "dense_3 = tf.keras.layers.Dense(16,activation='relu')(dropout1)\n",
    "\n",
    "dense_out = tf.keras.layers.Dense(1 , activation='sigmoid', name='output')(dropout1)\n",
    "\n",
    "\n",
    "model_2 = tf.keras.Model(inputs=text_input, outputs=dense_out)\n",
    "model_2.summary()"
   ]
  },
  {
   "cell_type": "code",
   "execution_count": 11,
   "id": "08074ce9",
   "metadata": {
    "execution": {
     "iopub.execute_input": "2024-01-15T07:27:41.836687Z",
     "iopub.status.busy": "2024-01-15T07:27:41.836250Z",
     "iopub.status.idle": "2024-01-15T07:27:41.844627Z",
     "shell.execute_reply": "2024-01-15T07:27:41.843421Z"
    },
    "papermill": {
     "duration": 0.026332,
     "end_time": "2024-01-15T07:27:41.847012",
     "exception": false,
     "start_time": "2024-01-15T07:27:41.820680",
     "status": "completed"
    },
    "tags": []
   },
   "outputs": [],
   "source": [
    "def cleantext(data) :\n",
    "    stemtext = []\n",
    "    len_text = []\n",
    "    para = data['text'].tolist()\n",
    "    for paragraph in para:\n",
    "        char = [char for char in paragraph if char not in string.punctuation]\n",
    "        word = \"\".join(char).split(\" \")\n",
    "        words = [word.lower() for word in word if word not in stopwords.words('english')]\n",
    "        stemwords = [SnowballStemmer('english').stem(word) for word in words]\n",
    "        len_text.append(len(stemwords))\n",
    "        stemtext.append(\" \".join(stemwords))\n",
    "    return stemtext , len_text"
   ]
  },
  {
   "cell_type": "code",
   "execution_count": 12,
   "id": "f5b1e2cd",
   "metadata": {
    "execution": {
     "iopub.execute_input": "2024-01-15T07:27:41.877415Z",
     "iopub.status.busy": "2024-01-15T07:27:41.876973Z",
     "iopub.status.idle": "2024-01-15T07:28:01.924755Z",
     "shell.execute_reply": "2024-01-15T07:28:01.923532Z"
    },
    "papermill": {
     "duration": 20.066131,
     "end_time": "2024-01-15T07:28:01.927233",
     "exception": false,
     "start_time": "2024-01-15T07:27:41.861102",
     "status": "completed"
    },
    "tags": []
   },
   "outputs": [
    {
     "name": "stdout",
     "output_type": "stream",
     "text": [
      "[nltk_data] Error loading stopwords: <urlopen error [Errno -3]\n",
      "[nltk_data]     Temporary failure in name resolution>\n"
     ]
    },
    {
     "data": {
      "text/plain": [
       "False"
      ]
     },
     "execution_count": 12,
     "metadata": {},
     "output_type": "execute_result"
    }
   ],
   "source": [
    "import nltk\n",
    "nltk.download('stopwords')"
   ]
  },
  {
   "cell_type": "code",
   "execution_count": 13,
   "id": "e91835dd",
   "metadata": {
    "execution": {
     "iopub.execute_input": "2024-01-15T07:28:01.958122Z",
     "iopub.status.busy": "2024-01-15T07:28:01.957654Z",
     "iopub.status.idle": "2024-01-15T07:31:25.254120Z",
     "shell.execute_reply": "2024-01-15T07:31:25.252887Z"
    },
    "papermill": {
     "duration": 203.314847,
     "end_time": "2024-01-15T07:31:25.256967",
     "exception": false,
     "start_time": "2024-01-15T07:28:01.942120",
     "status": "completed"
    },
    "tags": []
   },
   "outputs": [],
   "source": [
    "data['text'] = cleantext(data)[0]"
   ]
  },
  {
   "cell_type": "code",
   "execution_count": 14,
   "id": "e859aa1f",
   "metadata": {
    "execution": {
     "iopub.execute_input": "2024-01-15T07:31:25.288901Z",
     "iopub.status.busy": "2024-01-15T07:31:25.288467Z",
     "iopub.status.idle": "2024-01-15T07:31:25.299983Z",
     "shell.execute_reply": "2024-01-15T07:31:25.298842Z"
    },
    "papermill": {
     "duration": 0.029959,
     "end_time": "2024-01-15T07:31:25.302541",
     "exception": false,
     "start_time": "2024-01-15T07:31:25.272582",
     "status": "completed"
    },
    "tags": []
   },
   "outputs": [
    {
     "data": {
      "text/html": [
       "<div>\n",
       "<style scoped>\n",
       "    .dataframe tbody tr th:only-of-type {\n",
       "        vertical-align: middle;\n",
       "    }\n",
       "\n",
       "    .dataframe tbody tr th {\n",
       "        vertical-align: top;\n",
       "    }\n",
       "\n",
       "    .dataframe thead th {\n",
       "        text-align: right;\n",
       "    }\n",
       "</style>\n",
       "<table border=\"1\" class=\"dataframe\">\n",
       "  <thead>\n",
       "    <tr style=\"text-align: right;\">\n",
       "      <th></th>\n",
       "      <th>text</th>\n",
       "      <th>generated</th>\n",
       "    </tr>\n",
       "  </thead>\n",
       "  <tbody>\n",
       "    <tr>\n",
       "      <th>0</th>\n",
       "      <td>car car around sinc becam famous 1900s henri f...</td>\n",
       "      <td>0</td>\n",
       "    </tr>\n",
       "    <tr>\n",
       "      <th>1</th>\n",
       "      <td>transport larg necess countri worldwid with do...</td>\n",
       "      <td>0</td>\n",
       "    </tr>\n",
       "    <tr>\n",
       "      <th>2</th>\n",
       "      <td>america love affair vehicl seem cool say elisa...</td>\n",
       "      <td>0</td>\n",
       "    </tr>\n",
       "    <tr>\n",
       "      <th>3</th>\n",
       "      <td>how often ride car do drive one motor vehicl w...</td>\n",
       "      <td>0</td>\n",
       "    </tr>\n",
       "    <tr>\n",
       "      <th>4</th>\n",
       "      <td>car wonder thing they perhap one world greates...</td>\n",
       "      <td>0</td>\n",
       "    </tr>\n",
       "  </tbody>\n",
       "</table>\n",
       "</div>"
      ],
      "text/plain": [
       "                                                text  generated\n",
       "0  car car around sinc becam famous 1900s henri f...          0\n",
       "1  transport larg necess countri worldwid with do...          0\n",
       "2  america love affair vehicl seem cool say elisa...          0\n",
       "3  how often ride car do drive one motor vehicl w...          0\n",
       "4  car wonder thing they perhap one world greates...          0"
      ]
     },
     "execution_count": 14,
     "metadata": {},
     "output_type": "execute_result"
    }
   ],
   "source": [
    "data.head()"
   ]
  },
  {
   "cell_type": "code",
   "execution_count": 15,
   "id": "d46d5f8b",
   "metadata": {
    "execution": {
     "iopub.execute_input": "2024-01-15T07:31:25.334167Z",
     "iopub.status.busy": "2024-01-15T07:31:25.333689Z",
     "iopub.status.idle": "2024-01-15T07:31:25.340989Z",
     "shell.execute_reply": "2024-01-15T07:31:25.340140Z"
    },
    "papermill": {
     "duration": 0.026109,
     "end_time": "2024-01-15T07:31:25.343327",
     "exception": false,
     "start_time": "2024-01-15T07:31:25.317218",
     "status": "completed"
    },
    "tags": []
   },
   "outputs": [],
   "source": [
    "x_train, x_test ,y_train , y_test = train_test_split(data['text'], data['generated'],test_size=0.2)\n"
   ]
  },
  {
   "cell_type": "code",
   "execution_count": 16,
   "id": "b959ce6f",
   "metadata": {
    "execution": {
     "iopub.execute_input": "2024-01-15T07:31:25.374575Z",
     "iopub.status.busy": "2024-01-15T07:31:25.373873Z",
     "iopub.status.idle": "2024-01-15T07:59:34.565892Z",
     "shell.execute_reply": "2024-01-15T07:59:34.564516Z"
    },
    "papermill": {
     "duration": 1689.21102,
     "end_time": "2024-01-15T07:59:34.568796",
     "exception": false,
     "start_time": "2024-01-15T07:31:25.357776",
     "status": "completed"
    },
    "tags": []
   },
   "outputs": [
    {
     "name": "stdout",
     "output_type": "stream",
     "text": [
      "66/66 [==============================] - 1666s 25s/step - loss: 0.3323 - accuracy: 0.8466 - val_loss: 0.0438 - val_accuracy: 1.0000\n"
     ]
    }
   ],
   "source": [
    "model_2.compile(optimizer=tf.keras.optimizers.Adam(learning_rate= 0.00005),\n",
    "              loss='binary_crossentropy',\n",
    "              metrics=[\"accuracy\"])\n",
    "metric = 'val_accuracy'\n",
    "checkpoint_filepath = 'checkpoint.hdf5'\n",
    "callback_list = [tf.keras.callbacks.ModelCheckpoint(filepath=checkpoint_filepath, \n",
    "                                                    monitor=metric,\n",
    "                                                    verbose=2,\n",
    "                                                    save_best_only=True,\n",
    "                                                    mode='max'), \n",
    "                 tf.keras.callbacks.EarlyStopping(monitor=metric,\n",
    "                                                  patience=0,\n",
    "                                                  restore_best_weights=True)\n",
    "                ]\n",
    "history = model_2.fit(x_train, y_train , batch_size=32,\n",
    "                    epochs=1 , validation_data=(x_test, y_test))\n",
    "model_2.save(\"bertmodel_2_v2\")"
   ]
  },
  {
   "cell_type": "code",
   "execution_count": 17,
   "id": "a46a16c0",
   "metadata": {
    "execution": {
     "iopub.execute_input": "2024-01-15T07:59:34.613366Z",
     "iopub.status.busy": "2024-01-15T07:59:34.612945Z",
     "iopub.status.idle": "2024-01-15T07:59:34.633752Z",
     "shell.execute_reply": "2024-01-15T07:59:34.632576Z"
    },
    "papermill": {
     "duration": 0.045984,
     "end_time": "2024-01-15T07:59:34.636347",
     "exception": false,
     "start_time": "2024-01-15T07:59:34.590363",
     "status": "completed"
    },
    "tags": []
   },
   "outputs": [
    {
     "data": {
      "text/html": [
       "<div>\n",
       "<style scoped>\n",
       "    .dataframe tbody tr th:only-of-type {\n",
       "        vertical-align: middle;\n",
       "    }\n",
       "\n",
       "    .dataframe tbody tr th {\n",
       "        vertical-align: top;\n",
       "    }\n",
       "\n",
       "    .dataframe thead th {\n",
       "        text-align: right;\n",
       "    }\n",
       "</style>\n",
       "<table border=\"1\" class=\"dataframe\">\n",
       "  <thead>\n",
       "    <tr style=\"text-align: right;\">\n",
       "      <th></th>\n",
       "      <th>id</th>\n",
       "      <th>prompt_id</th>\n",
       "      <th>text</th>\n",
       "    </tr>\n",
       "  </thead>\n",
       "  <tbody>\n",
       "    <tr>\n",
       "      <th>0</th>\n",
       "      <td>0000aaaa</td>\n",
       "      <td>2</td>\n",
       "      <td>Aaa bbb ccc.</td>\n",
       "    </tr>\n",
       "    <tr>\n",
       "      <th>1</th>\n",
       "      <td>1111bbbb</td>\n",
       "      <td>3</td>\n",
       "      <td>Bbb ccc ddd.</td>\n",
       "    </tr>\n",
       "    <tr>\n",
       "      <th>2</th>\n",
       "      <td>2222cccc</td>\n",
       "      <td>4</td>\n",
       "      <td>CCC ddd eee.</td>\n",
       "    </tr>\n",
       "  </tbody>\n",
       "</table>\n",
       "</div>"
      ],
      "text/plain": [
       "         id  prompt_id          text\n",
       "0  0000aaaa          2  Aaa bbb ccc.\n",
       "1  1111bbbb          3  Bbb ccc ddd.\n",
       "2  2222cccc          4  CCC ddd eee."
      ]
     },
     "execution_count": 17,
     "metadata": {},
     "output_type": "execute_result"
    }
   ],
   "source": [
    "final_test = pd.read_csv('/kaggle/input/llm-detect-ai-generated-text/test_essays.csv')\n",
    "final_test"
   ]
  },
  {
   "cell_type": "code",
   "execution_count": 18,
   "id": "000300f8",
   "metadata": {
    "execution": {
     "iopub.execute_input": "2024-01-15T07:59:34.680556Z",
     "iopub.status.busy": "2024-01-15T07:59:34.680157Z",
     "iopub.status.idle": "2024-01-15T07:59:34.688966Z",
     "shell.execute_reply": "2024-01-15T07:59:34.688091Z"
    },
    "papermill": {
     "duration": 0.033803,
     "end_time": "2024-01-15T07:59:34.691402",
     "exception": false,
     "start_time": "2024-01-15T07:59:34.657599",
     "status": "completed"
    },
    "tags": []
   },
   "outputs": [],
   "source": [
    "test_text = cleantext(final_test)[0]\n",
    "final_test['text'] = test_text"
   ]
  },
  {
   "cell_type": "code",
   "execution_count": 19,
   "id": "ec2f55f8",
   "metadata": {
    "execution": {
     "iopub.execute_input": "2024-01-15T07:59:34.737331Z",
     "iopub.status.busy": "2024-01-15T07:59:34.736474Z",
     "iopub.status.idle": "2024-01-15T07:59:37.931165Z",
     "shell.execute_reply": "2024-01-15T07:59:37.929986Z"
    },
    "papermill": {
     "duration": 3.220792,
     "end_time": "2024-01-15T07:59:37.933671",
     "exception": false,
     "start_time": "2024-01-15T07:59:34.712879",
     "status": "completed"
    },
    "tags": []
   },
   "outputs": [
    {
     "name": "stdout",
     "output_type": "stream",
     "text": [
      "1/1 [==============================] - 3s 3s/step\n"
     ]
    },
    {
     "data": {
      "text/plain": [
       "array([[0.11172061],\n",
       "       [0.09365334],\n",
       "       [0.06928797]], dtype=float32)"
      ]
     },
     "execution_count": 19,
     "metadata": {},
     "output_type": "execute_result"
    }
   ],
   "source": [
    "pred = model_2.predict(final_test['text'].values)\n",
    "pred"
   ]
  },
  {
   "cell_type": "code",
   "execution_count": 20,
   "id": "f96c0c82",
   "metadata": {
    "execution": {
     "iopub.execute_input": "2024-01-15T07:59:37.979720Z",
     "iopub.status.busy": "2024-01-15T07:59:37.979025Z",
     "iopub.status.idle": "2024-01-15T07:59:37.985938Z",
     "shell.execute_reply": "2024-01-15T07:59:37.984801Z"
    },
    "papermill": {
     "duration": 0.032624,
     "end_time": "2024-01-15T07:59:37.988456",
     "exception": false,
     "start_time": "2024-01-15T07:59:37.955832",
     "status": "completed"
    },
    "tags": []
   },
   "outputs": [
    {
     "data": {
      "text/plain": [
       "array([0.11172061, 0.09365334, 0.06928797], dtype=float32)"
      ]
     },
     "execution_count": 20,
     "metadata": {},
     "output_type": "execute_result"
    }
   ],
   "source": [
    "test_result = pred[:,0]\n",
    "test_result"
   ]
  },
  {
   "cell_type": "code",
   "execution_count": 21,
   "id": "02cdf7c8",
   "metadata": {
    "execution": {
     "iopub.execute_input": "2024-01-15T07:59:38.034345Z",
     "iopub.status.busy": "2024-01-15T07:59:38.033944Z",
     "iopub.status.idle": "2024-01-15T07:59:38.045870Z",
     "shell.execute_reply": "2024-01-15T07:59:38.044728Z"
    },
    "papermill": {
     "duration": 0.037906,
     "end_time": "2024-01-15T07:59:38.048221",
     "exception": false,
     "start_time": "2024-01-15T07:59:38.010315",
     "status": "completed"
    },
    "tags": []
   },
   "outputs": [
    {
     "data": {
      "text/html": [
       "<div>\n",
       "<style scoped>\n",
       "    .dataframe tbody tr th:only-of-type {\n",
       "        vertical-align: middle;\n",
       "    }\n",
       "\n",
       "    .dataframe tbody tr th {\n",
       "        vertical-align: top;\n",
       "    }\n",
       "\n",
       "    .dataframe thead th {\n",
       "        text-align: right;\n",
       "    }\n",
       "</style>\n",
       "<table border=\"1\" class=\"dataframe\">\n",
       "  <thead>\n",
       "    <tr style=\"text-align: right;\">\n",
       "      <th></th>\n",
       "      <th>id</th>\n",
       "      <th>generated</th>\n",
       "    </tr>\n",
       "  </thead>\n",
       "  <tbody>\n",
       "    <tr>\n",
       "      <th>0</th>\n",
       "      <td>0000aaaa</td>\n",
       "      <td>0.111721</td>\n",
       "    </tr>\n",
       "    <tr>\n",
       "      <th>1</th>\n",
       "      <td>1111bbbb</td>\n",
       "      <td>0.093653</td>\n",
       "    </tr>\n",
       "    <tr>\n",
       "      <th>2</th>\n",
       "      <td>2222cccc</td>\n",
       "      <td>0.069288</td>\n",
       "    </tr>\n",
       "  </tbody>\n",
       "</table>\n",
       "</div>"
      ],
      "text/plain": [
       "         id  generated\n",
       "0  0000aaaa   0.111721\n",
       "1  1111bbbb   0.093653\n",
       "2  2222cccc   0.069288"
      ]
     },
     "execution_count": 21,
     "metadata": {},
     "output_type": "execute_result"
    }
   ],
   "source": [
    "final_submission = pd.DataFrame(final_test['id'])\n",
    "final_submission['generated'] = test_result\n",
    "final_submission"
   ]
  },
  {
   "cell_type": "code",
   "execution_count": 22,
   "id": "c0734f85",
   "metadata": {
    "execution": {
     "iopub.execute_input": "2024-01-15T07:59:38.094103Z",
     "iopub.status.busy": "2024-01-15T07:59:38.093637Z",
     "iopub.status.idle": "2024-01-15T07:59:38.103630Z",
     "shell.execute_reply": "2024-01-15T07:59:38.102661Z"
    },
    "papermill": {
     "duration": 0.036187,
     "end_time": "2024-01-15T07:59:38.106313",
     "exception": false,
     "start_time": "2024-01-15T07:59:38.070126",
     "status": "completed"
    },
    "tags": []
   },
   "outputs": [],
   "source": [
    "final_submission.to_csv('submission.csv', index=False)"
   ]
  },
  {
   "cell_type": "code",
   "execution_count": null,
   "id": "27970424",
   "metadata": {
    "papermill": {
     "duration": 0.021772,
     "end_time": "2024-01-15T07:59:38.151006",
     "exception": false,
     "start_time": "2024-01-15T07:59:38.129234",
     "status": "completed"
    },
    "tags": []
   },
   "outputs": [],
   "source": []
  }
 ],
 "metadata": {
  "kaggle": {
   "accelerator": "none",
   "dataSources": [
    {
     "databundleVersionId": 6888007,
     "sourceId": 61542,
     "sourceType": "competition"
    },
    {
     "databundleVersionId": 7478181,
     "datasetId": 4293877,
     "sourceId": 7387251,
     "sourceType": "datasetVersion"
    },
    {
     "databundleVersionId": 7492963,
     "datasetId": 4304117,
     "sourceId": 7401866,
     "sourceType": "datasetVersion"
    },
    {
     "databundleVersionId": 4910255,
     "modelInstanceId": 1901,
     "sourceId": 2626,
     "sourceType": "modelInstanceVersion"
    },
    {
     "databundleVersionId": 4932971,
     "modelInstanceId": 2180,
     "sourceId": 2938,
     "sourceType": "modelInstanceVersion"
    },
    {
     "databundleVersionId": 7429185,
     "modelInstanceId": 4679,
     "sourceId": 6058,
     "sourceType": "modelInstanceVersion"
    },
    {
     "databundleVersionId": 7429247,
     "modelInstanceId": 4689,
     "sourceId": 6068,
     "sourceType": "modelInstanceVersion"
    },
    {
     "databundleVersionId": 5074524,
     "modelInstanceId": 2197,
     "sourceId": 2958,
     "sourceType": "modelInstanceVersion"
    },
    {
     "databundleVersionId": 5074523,
     "modelInstanceId": 2196,
     "sourceId": 2957,
     "sourceType": "modelInstanceVersion"
    }
   ],
   "dockerImageVersionId": 30635,
   "isGpuEnabled": false,
   "isInternetEnabled": false,
   "language": "python",
   "sourceType": "notebook"
  },
  "kernelspec": {
   "display_name": "Python 3",
   "language": "python",
   "name": "python3"
  },
  "language_info": {
   "codemirror_mode": {
    "name": "ipython",
    "version": 3
   },
   "file_extension": ".py",
   "mimetype": "text/x-python",
   "name": "python",
   "nbconvert_exporter": "python",
   "pygments_lexer": "ipython3",
   "version": "3.10.12"
  },
  "papermill": {
   "default_parameters": {},
   "duration": 1973.790401,
   "end_time": "2024-01-15T07:59:41.702446",
   "environment_variables": {},
   "exception": null,
   "input_path": "__notebook__.ipynb",
   "output_path": "__notebook__.ipynb",
   "parameters": {},
   "start_time": "2024-01-15T07:26:47.912045",
   "version": "2.4.0"
  }
 },
 "nbformat": 4,
 "nbformat_minor": 5
}

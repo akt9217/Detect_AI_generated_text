{
 "cells": [
  {
   "cell_type": "code",
   "execution_count": 1,
   "id": "1dfe9085",
   "metadata": {
    "_cell_guid": "b1076dfc-b9ad-4769-8c92-a6c4dae69d19",
    "_uuid": "8f2839f25d086af736a60e9eeb907d3b93b6e0e5",
    "execution": {
     "iopub.execute_input": "2024-01-13T07:42:06.576808Z",
     "iopub.status.busy": "2024-01-13T07:42:06.576210Z",
     "iopub.status.idle": "2024-01-13T07:42:06.901527Z",
     "shell.execute_reply": "2024-01-13T07:42:06.899986Z"
    },
    "papermill": {
     "duration": 0.334991,
     "end_time": "2024-01-13T07:42:06.904272",
     "exception": false,
     "start_time": "2024-01-13T07:42:06.569281",
     "status": "completed"
    },
    "tags": []
   },
   "outputs": [
    {
     "name": "stdout",
     "output_type": "stream",
     "text": [
      "/kaggle/input/distil_bert/keras/distil_bert_base_en_uncased/2/config.json\n",
      "/kaggle/input/distil_bert/keras/distil_bert_base_en_uncased/2/tokenizer.json\n",
      "/kaggle/input/distil_bert/keras/distil_bert_base_en_uncased/2/metadata.json\n",
      "/kaggle/input/distil_bert/keras/distil_bert_base_en_uncased/2/model.weights.h5\n",
      "/kaggle/input/distil_bert/keras/distil_bert_base_en_uncased/2/assets/tokenizer/vocabulary.txt\n",
      "/kaggle/input/palm-essay-gen-itr1/Palm_gen_essay_1.csv\n",
      "/kaggle/input/llm-detect-ai-generated-text/sample_submission.csv\n",
      "/kaggle/input/llm-detect-ai-generated-text/train_prompts.csv\n",
      "/kaggle/input/llm-detect-ai-generated-text/test_essays.csv\n",
      "/kaggle/input/llm-detect-ai-generated-text/train_essays.csv\n",
      "/kaggle/input/bert/keras/bert_base_en/2/config.json\n",
      "/kaggle/input/bert/keras/bert_base_en/2/tokenizer.json\n",
      "/kaggle/input/bert/keras/bert_base_en/2/metadata.json\n",
      "/kaggle/input/bert/keras/bert_base_en/2/model.weights.h5\n",
      "/kaggle/input/bert/keras/bert_base_en/2/assets/tokenizer/vocabulary.txt\n",
      "/kaggle/input/bert/tensorflow2/bert-en-uncased-l-10-h-512-a-8/2/saved_model.pb\n",
      "/kaggle/input/bert/tensorflow2/bert-en-uncased-l-10-h-512-a-8/2/keras_metadata.pb\n",
      "/kaggle/input/bert/tensorflow2/bert-en-uncased-l-10-h-512-a-8/2/assets/vocab.txt\n",
      "/kaggle/input/bert/tensorflow2/bert-en-uncased-l-10-h-512-a-8/2/variables/variables.index\n",
      "/kaggle/input/bert/tensorflow2/bert-en-uncased-l-10-h-512-a-8/2/variables/variables.data-00000-of-00001\n",
      "/kaggle/input/bert/tensorflow2/en-uncased-preprocess/3/saved_model.pb\n",
      "/kaggle/input/bert/tensorflow2/en-uncased-preprocess/3/keras_metadata.pb\n",
      "/kaggle/input/bert/tensorflow2/en-uncased-preprocess/3/assets/vocab.txt\n",
      "/kaggle/input/bert/tensorflow2/en-uncased-preprocess/3/variables/variables.index\n",
      "/kaggle/input/bert/tensorflow2/en-uncased-preprocess/3/variables/variables.data-00000-of-00001\n"
     ]
    }
   ],
   "source": [
    "# This Python 3 environment comes with many helpful analytics libraries installed\n",
    "# It is defined by the kaggle/python Docker image: https://github.com/kaggle/docker-python\n",
    "# For example, here's several helpful packages to load\n",
    "\n",
    "import numpy as np # linear algebra\n",
    "import pandas as pd # data processing, CSV file I/O (e.g. pd.read_csv)\n",
    "\n",
    "# Input data files are available in the read-only \"../input/\" directory\n",
    "# For example, running this (by clicking run or pressing Shift+Enter) will list all files under the input directory\n",
    "\n",
    "import os\n",
    "for dirname, _, filenames in os.walk('/kaggle/input'):\n",
    "    for filename in filenames:\n",
    "        print(os.path.join(dirname, filename))\n",
    "\n",
    "# You can write up to 20GB to the current directory (/kaggle/working/) that gets preserved as output when you create a version using \"Save & Run All\" \n",
    "# You can also write temporary files to /kaggle/temp/, but they won't be saved outside of the current session"
   ]
  },
  {
   "cell_type": "code",
   "execution_count": null,
   "id": "3f3cb91b",
   "metadata": {
    "papermill": {
     "duration": 0.004716,
     "end_time": "2024-01-13T07:42:06.915061",
     "exception": false,
     "start_time": "2024-01-13T07:42:06.910345",
     "status": "completed"
    },
    "tags": []
   },
   "outputs": [],
   "source": []
  },
  {
   "cell_type": "code",
   "execution_count": 2,
   "id": "6382c022",
   "metadata": {
    "execution": {
     "iopub.execute_input": "2024-01-13T07:42:06.927343Z",
     "iopub.status.busy": "2024-01-13T07:42:06.926846Z",
     "iopub.status.idle": "2024-01-13T07:42:27.751109Z",
     "shell.execute_reply": "2024-01-13T07:42:27.749877Z"
    },
    "papermill": {
     "duration": 20.833694,
     "end_time": "2024-01-13T07:42:27.753673",
     "exception": false,
     "start_time": "2024-01-13T07:42:06.919979",
     "status": "completed"
    },
    "tags": []
   },
   "outputs": [],
   "source": [
    "import numpy as np\n",
    "import pandas as pd\n",
    "from matplotlib import pyplot as plt\n",
    "import tensorflow as tf\n",
    "from tensorflow import keras\n",
    "from tensorflow.keras import layers,models\n",
    "import seaborn as sns\n",
    "import nltk\n",
    "from nltk.corpus import stopwords\n",
    "import string\n",
    "from nltk.stem.snowball import SnowballStemmer\n",
    "from sklearn.feature_extraction.text import CountVectorizer\n",
    "snowball = SnowballStemmer(language='english')\n",
    "from sklearn.model_selection import train_test_split\n",
    "from sklearn.ensemble import GradientBoostingClassifier as XGB\n",
    "from sklearn.metrics import confusion_matrix\n",
    "from sklearn.svm import SVC\n",
    "import transformers\n",
    "from transformers import DistilBertTokenizer, TFDistilBertModel\n",
    "from transformers import TFDistilBertForSequenceClassification, DistilBertConfig\n",
    "from numba import cuda\n",
    "from nltk.tokenize import word_tokenize\n",
    "import tensorflow_text as tftext\n",
    "import tensorflow_hub as tfhub"
   ]
  },
  {
   "cell_type": "code",
   "execution_count": 3,
   "id": "7945f557",
   "metadata": {
    "execution": {
     "iopub.execute_input": "2024-01-13T07:42:27.766740Z",
     "iopub.status.busy": "2024-01-13T07:42:27.766099Z",
     "iopub.status.idle": "2024-01-13T07:42:27.885488Z",
     "shell.execute_reply": "2024-01-13T07:42:27.884508Z"
    },
    "papermill": {
     "duration": 0.127836,
     "end_time": "2024-01-13T07:42:27.887381",
     "exception": false,
     "start_time": "2024-01-13T07:42:27.759545",
     "status": "completed"
    },
    "tags": []
   },
   "outputs": [
    {
     "data": {
      "text/html": [
       "<div>\n",
       "<style scoped>\n",
       "    .dataframe tbody tr th:only-of-type {\n",
       "        vertical-align: middle;\n",
       "    }\n",
       "\n",
       "    .dataframe tbody tr th {\n",
       "        vertical-align: top;\n",
       "    }\n",
       "\n",
       "    .dataframe thead th {\n",
       "        text-align: right;\n",
       "    }\n",
       "</style>\n",
       "<table border=\"1\" class=\"dataframe\">\n",
       "  <thead>\n",
       "    <tr style=\"text-align: right;\">\n",
       "      <th></th>\n",
       "      <th>id</th>\n",
       "      <th>prompt_id</th>\n",
       "      <th>text</th>\n",
       "      <th>generated</th>\n",
       "    </tr>\n",
       "  </thead>\n",
       "  <tbody>\n",
       "    <tr>\n",
       "      <th>0</th>\n",
       "      <td>0059830c</td>\n",
       "      <td>0</td>\n",
       "      <td>Cars. Cars have been around since they became ...</td>\n",
       "      <td>0</td>\n",
       "    </tr>\n",
       "    <tr>\n",
       "      <th>1</th>\n",
       "      <td>005db917</td>\n",
       "      <td>0</td>\n",
       "      <td>Transportation is a large necessity in most co...</td>\n",
       "      <td>0</td>\n",
       "    </tr>\n",
       "    <tr>\n",
       "      <th>2</th>\n",
       "      <td>008f63e3</td>\n",
       "      <td>0</td>\n",
       "      <td>\"America's love affair with it's vehicles seem...</td>\n",
       "      <td>0</td>\n",
       "    </tr>\n",
       "    <tr>\n",
       "      <th>3</th>\n",
       "      <td>00940276</td>\n",
       "      <td>0</td>\n",
       "      <td>How often do you ride in a car? Do you drive a...</td>\n",
       "      <td>0</td>\n",
       "    </tr>\n",
       "    <tr>\n",
       "      <th>4</th>\n",
       "      <td>00c39458</td>\n",
       "      <td>0</td>\n",
       "      <td>Cars are a wonderful thing. They are perhaps o...</td>\n",
       "      <td>0</td>\n",
       "    </tr>\n",
       "    <tr>\n",
       "      <th>...</th>\n",
       "      <td>...</td>\n",
       "      <td>...</td>\n",
       "      <td>...</td>\n",
       "      <td>...</td>\n",
       "    </tr>\n",
       "    <tr>\n",
       "      <th>1373</th>\n",
       "      <td>fe6ff9a5</td>\n",
       "      <td>1</td>\n",
       "      <td>There has been a fuss about the Elector Colleg...</td>\n",
       "      <td>0</td>\n",
       "    </tr>\n",
       "    <tr>\n",
       "      <th>1374</th>\n",
       "      <td>ff669174</td>\n",
       "      <td>0</td>\n",
       "      <td>Limiting car usage has many advantages. Such a...</td>\n",
       "      <td>0</td>\n",
       "    </tr>\n",
       "    <tr>\n",
       "      <th>1375</th>\n",
       "      <td>ffa247e0</td>\n",
       "      <td>0</td>\n",
       "      <td>There's a new trend that has been developing f...</td>\n",
       "      <td>0</td>\n",
       "    </tr>\n",
       "    <tr>\n",
       "      <th>1376</th>\n",
       "      <td>ffc237e9</td>\n",
       "      <td>0</td>\n",
       "      <td>As we all know cars are a big part of our soci...</td>\n",
       "      <td>0</td>\n",
       "    </tr>\n",
       "    <tr>\n",
       "      <th>1377</th>\n",
       "      <td>ffe1ca0d</td>\n",
       "      <td>0</td>\n",
       "      <td>Cars have been around since the 1800's and hav...</td>\n",
       "      <td>0</td>\n",
       "    </tr>\n",
       "  </tbody>\n",
       "</table>\n",
       "<p>1378 rows × 4 columns</p>\n",
       "</div>"
      ],
      "text/plain": [
       "            id  prompt_id                                               text  \\\n",
       "0     0059830c          0  Cars. Cars have been around since they became ...   \n",
       "1     005db917          0  Transportation is a large necessity in most co...   \n",
       "2     008f63e3          0  \"America's love affair with it's vehicles seem...   \n",
       "3     00940276          0  How often do you ride in a car? Do you drive a...   \n",
       "4     00c39458          0  Cars are a wonderful thing. They are perhaps o...   \n",
       "...        ...        ...                                                ...   \n",
       "1373  fe6ff9a5          1  There has been a fuss about the Elector Colleg...   \n",
       "1374  ff669174          0  Limiting car usage has many advantages. Such a...   \n",
       "1375  ffa247e0          0  There's a new trend that has been developing f...   \n",
       "1376  ffc237e9          0  As we all know cars are a big part of our soci...   \n",
       "1377  ffe1ca0d          0  Cars have been around since the 1800's and hav...   \n",
       "\n",
       "      generated  \n",
       "0             0  \n",
       "1             0  \n",
       "2             0  \n",
       "3             0  \n",
       "4             0  \n",
       "...         ...  \n",
       "1373          0  \n",
       "1374          0  \n",
       "1375          0  \n",
       "1376          0  \n",
       "1377          0  \n",
       "\n",
       "[1378 rows x 4 columns]"
      ]
     },
     "execution_count": 3,
     "metadata": {},
     "output_type": "execute_result"
    }
   ],
   "source": [
    "train_csv = pd.read_csv('/kaggle/input/llm-detect-ai-generated-text/train_essays.csv')\n",
    "train_csv"
   ]
  },
  {
   "cell_type": "code",
   "execution_count": 4,
   "id": "88cf736d",
   "metadata": {
    "execution": {
     "iopub.execute_input": "2024-01-13T07:42:27.900886Z",
     "iopub.status.busy": "2024-01-13T07:42:27.899656Z",
     "iopub.status.idle": "2024-01-13T07:42:27.926298Z",
     "shell.execute_reply": "2024-01-13T07:42:27.925654Z"
    },
    "papermill": {
     "duration": 0.035272,
     "end_time": "2024-01-13T07:42:27.928215",
     "exception": false,
     "start_time": "2024-01-13T07:42:27.892943",
     "status": "completed"
    },
    "tags": []
   },
   "outputs": [
    {
     "name": "stdout",
     "output_type": "stream",
     "text": [
      "<class 'pandas.core.frame.DataFrame'>\n",
      "RangeIndex: 1378 entries, 0 to 1377\n",
      "Data columns (total 4 columns):\n",
      " #   Column     Non-Null Count  Dtype \n",
      "---  ------     --------------  ----- \n",
      " 0   id         1378 non-null   object\n",
      " 1   prompt_id  1378 non-null   int64 \n",
      " 2   text       1378 non-null   object\n",
      " 3   generated  1378 non-null   int64 \n",
      "dtypes: int64(2), object(2)\n",
      "memory usage: 43.2+ KB\n"
     ]
    }
   ],
   "source": [
    "train_csv.info()"
   ]
  },
  {
   "cell_type": "code",
   "execution_count": 5,
   "id": "3673b7f8",
   "metadata": {
    "execution": {
     "iopub.execute_input": "2024-01-13T07:42:27.941534Z",
     "iopub.status.busy": "2024-01-13T07:42:27.940489Z",
     "iopub.status.idle": "2024-01-13T07:42:27.974017Z",
     "shell.execute_reply": "2024-01-13T07:42:27.972796Z"
    },
    "papermill": {
     "duration": 0.04221,
     "end_time": "2024-01-13T07:42:27.976068",
     "exception": false,
     "start_time": "2024-01-13T07:42:27.933858",
     "status": "completed"
    },
    "tags": []
   },
   "outputs": [
    {
     "data": {
      "text/html": [
       "<div>\n",
       "<style scoped>\n",
       "    .dataframe tbody tr th:only-of-type {\n",
       "        vertical-align: middle;\n",
       "    }\n",
       "\n",
       "    .dataframe tbody tr th {\n",
       "        vertical-align: top;\n",
       "    }\n",
       "\n",
       "    .dataframe thead th {\n",
       "        text-align: right;\n",
       "    }\n",
       "</style>\n",
       "<table border=\"1\" class=\"dataframe\">\n",
       "  <thead>\n",
       "    <tr style=\"text-align: right;\">\n",
       "      <th></th>\n",
       "      <th>id</th>\n",
       "      <th>prompt_id</th>\n",
       "      <th>text</th>\n",
       "      <th>generated</th>\n",
       "    </tr>\n",
       "  </thead>\n",
       "  <tbody>\n",
       "    <tr>\n",
       "      <th>0</th>\n",
       "      <td>0</td>\n",
       "      <td>0.0</td>\n",
       "      <td>### In Favor of Limiting Car Usage\\n\\nIn recen...</td>\n",
       "      <td>1.0</td>\n",
       "    </tr>\n",
       "    <tr>\n",
       "      <th>1</th>\n",
       "      <td>1</td>\n",
       "      <td>0.0</td>\n",
       "      <td>In the United States, car culture is deeply in...</td>\n",
       "      <td>1.0</td>\n",
       "    </tr>\n",
       "    <tr>\n",
       "      <th>2</th>\n",
       "      <td>2</td>\n",
       "      <td>0.0</td>\n",
       "      <td>In recent years, there has been a growing move...</td>\n",
       "      <td>1.0</td>\n",
       "    </tr>\n",
       "    <tr>\n",
       "      <th>3</th>\n",
       "      <td>3</td>\n",
       "      <td>0.0</td>\n",
       "      <td>In recent years, there has been a growing move...</td>\n",
       "      <td>1.0</td>\n",
       "    </tr>\n",
       "    <tr>\n",
       "      <th>4</th>\n",
       "      <td>4</td>\n",
       "      <td>0.0</td>\n",
       "      <td>In the past few decades, there has been a grow...</td>\n",
       "      <td>1.0</td>\n",
       "    </tr>\n",
       "  </tbody>\n",
       "</table>\n",
       "</div>"
      ],
      "text/plain": [
       "   id  prompt_id                                               text  generated\n",
       "0   0        0.0  ### In Favor of Limiting Car Usage\\n\\nIn recen...        1.0\n",
       "1   1        0.0  In the United States, car culture is deeply in...        1.0\n",
       "2   2        0.0  In recent years, there has been a growing move...        1.0\n",
       "3   3        0.0  In recent years, there has been a growing move...        1.0\n",
       "4   4        0.0  In the past few decades, there has been a grow...        1.0"
      ]
     },
     "execution_count": 5,
     "metadata": {},
     "output_type": "execute_result"
    }
   ],
   "source": [
    "palm_gen_essay =pd.read_csv('/kaggle/input/palm-essay-gen-itr1/Palm_gen_essay_1.csv')\n",
    "palm_gen_essay.head()"
   ]
  },
  {
   "cell_type": "code",
   "execution_count": 6,
   "id": "8b07a19a",
   "metadata": {
    "execution": {
     "iopub.execute_input": "2024-01-13T07:42:27.988788Z",
     "iopub.status.busy": "2024-01-13T07:42:27.988410Z",
     "iopub.status.idle": "2024-01-13T07:42:27.999807Z",
     "shell.execute_reply": "2024-01-13T07:42:27.998396Z"
    },
    "papermill": {
     "duration": 0.021144,
     "end_time": "2024-01-13T07:42:28.002845",
     "exception": false,
     "start_time": "2024-01-13T07:42:27.981701",
     "status": "completed"
    },
    "tags": []
   },
   "outputs": [
    {
     "name": "stdout",
     "output_type": "stream",
     "text": [
      "<class 'pandas.core.frame.DataFrame'>\n",
      "RangeIndex: 318 entries, 0 to 317\n",
      "Data columns (total 4 columns):\n",
      " #   Column     Non-Null Count  Dtype  \n",
      "---  ------     --------------  -----  \n",
      " 0   id         318 non-null    int64  \n",
      " 1   prompt_id  318 non-null    float64\n",
      " 2   text       318 non-null    object \n",
      " 3   generated  318 non-null    float64\n",
      "dtypes: float64(2), int64(1), object(1)\n",
      "memory usage: 10.1+ KB\n"
     ]
    }
   ],
   "source": [
    "palm_gen_essay.info()"
   ]
  },
  {
   "cell_type": "code",
   "execution_count": 7,
   "id": "a0e6a028",
   "metadata": {
    "execution": {
     "iopub.execute_input": "2024-01-13T07:42:28.016683Z",
     "iopub.status.busy": "2024-01-13T07:42:28.016003Z",
     "iopub.status.idle": "2024-01-13T07:42:28.020555Z",
     "shell.execute_reply": "2024-01-13T07:42:28.019975Z"
    },
    "papermill": {
     "duration": 0.014045,
     "end_time": "2024-01-13T07:42:28.022775",
     "exception": false,
     "start_time": "2024-01-13T07:42:28.008730",
     "status": "completed"
    },
    "tags": []
   },
   "outputs": [],
   "source": [
    "palm_gen_essay['generated'] = palm_gen_essay['generated'].astype('int64')"
   ]
  },
  {
   "cell_type": "code",
   "execution_count": 8,
   "id": "64449921",
   "metadata": {
    "execution": {
     "iopub.execute_input": "2024-01-13T07:42:28.035928Z",
     "iopub.status.busy": "2024-01-13T07:42:28.035554Z",
     "iopub.status.idle": "2024-01-13T07:42:28.047266Z",
     "shell.execute_reply": "2024-01-13T07:42:28.046310Z"
    },
    "papermill": {
     "duration": 0.020631,
     "end_time": "2024-01-13T07:42:28.049291",
     "exception": false,
     "start_time": "2024-01-13T07:42:28.028660",
     "status": "completed"
    },
    "tags": []
   },
   "outputs": [
    {
     "data": {
      "text/plain": [
       "(1696, 2)"
      ]
     },
     "execution_count": 8,
     "metadata": {},
     "output_type": "execute_result"
    }
   ],
   "source": [
    "# Concatenate on specific columns (e.g., 'A' and 'B')\n",
    "data = pd.concat([train_csv[['text','generated']], palm_gen_essay[['text','generated']]], axis=0, join='outer')\n",
    "data.shape\n"
   ]
  },
  {
   "cell_type": "code",
   "execution_count": 9,
   "id": "0d08e63d",
   "metadata": {
    "execution": {
     "iopub.execute_input": "2024-01-13T07:42:28.063623Z",
     "iopub.status.busy": "2024-01-13T07:42:28.062891Z",
     "iopub.status.idle": "2024-01-13T07:42:28.073190Z",
     "shell.execute_reply": "2024-01-13T07:42:28.071778Z"
    },
    "papermill": {
     "duration": 0.020206,
     "end_time": "2024-01-13T07:42:28.075597",
     "exception": false,
     "start_time": "2024-01-13T07:42:28.055391",
     "status": "completed"
    },
    "tags": []
   },
   "outputs": [
    {
     "data": {
      "text/html": [
       "<div>\n",
       "<style scoped>\n",
       "    .dataframe tbody tr th:only-of-type {\n",
       "        vertical-align: middle;\n",
       "    }\n",
       "\n",
       "    .dataframe tbody tr th {\n",
       "        vertical-align: top;\n",
       "    }\n",
       "\n",
       "    .dataframe thead th {\n",
       "        text-align: right;\n",
       "    }\n",
       "</style>\n",
       "<table border=\"1\" class=\"dataframe\">\n",
       "  <thead>\n",
       "    <tr style=\"text-align: right;\">\n",
       "      <th></th>\n",
       "      <th>text</th>\n",
       "      <th>generated</th>\n",
       "    </tr>\n",
       "  </thead>\n",
       "  <tbody>\n",
       "    <tr>\n",
       "      <th>0</th>\n",
       "      <td>Cars. Cars have been around since they became ...</td>\n",
       "      <td>0</td>\n",
       "    </tr>\n",
       "    <tr>\n",
       "      <th>1</th>\n",
       "      <td>Transportation is a large necessity in most co...</td>\n",
       "      <td>0</td>\n",
       "    </tr>\n",
       "    <tr>\n",
       "      <th>2</th>\n",
       "      <td>\"America's love affair with it's vehicles seem...</td>\n",
       "      <td>0</td>\n",
       "    </tr>\n",
       "    <tr>\n",
       "      <th>3</th>\n",
       "      <td>How often do you ride in a car? Do you drive a...</td>\n",
       "      <td>0</td>\n",
       "    </tr>\n",
       "    <tr>\n",
       "      <th>4</th>\n",
       "      <td>Cars are a wonderful thing. They are perhaps o...</td>\n",
       "      <td>0</td>\n",
       "    </tr>\n",
       "  </tbody>\n",
       "</table>\n",
       "</div>"
      ],
      "text/plain": [
       "                                                text  generated\n",
       "0  Cars. Cars have been around since they became ...          0\n",
       "1  Transportation is a large necessity in most co...          0\n",
       "2  \"America's love affair with it's vehicles seem...          0\n",
       "3  How often do you ride in a car? Do you drive a...          0\n",
       "4  Cars are a wonderful thing. They are perhaps o...          0"
      ]
     },
     "execution_count": 9,
     "metadata": {},
     "output_type": "execute_result"
    }
   ],
   "source": [
    "data.head()"
   ]
  },
  {
   "cell_type": "code",
   "execution_count": 10,
   "id": "8ae47dea",
   "metadata": {
    "execution": {
     "iopub.execute_input": "2024-01-13T07:42:28.089523Z",
     "iopub.status.busy": "2024-01-13T07:42:28.089110Z",
     "iopub.status.idle": "2024-01-13T07:42:41.558722Z",
     "shell.execute_reply": "2024-01-13T07:42:41.557630Z"
    },
    "papermill": {
     "duration": 13.47907,
     "end_time": "2024-01-13T07:42:41.560712",
     "exception": false,
     "start_time": "2024-01-13T07:42:28.081642",
     "status": "completed"
    },
    "tags": []
   },
   "outputs": [
    {
     "name": "stderr",
     "output_type": "stream",
     "text": [
      "Attaching model 'tensorflow/bert/tensorflow2/en-uncased-preprocess/3' to your Kaggle notebook...\n",
      "Attaching model 'tensorflow/bert/tensorflow2/bert-en-uncased-l-10-h-512-a-8/2' to your Kaggle notebook...\n"
     ]
    },
    {
     "name": "stdout",
     "output_type": "stream",
     "text": [
      "Model: \"model\"\n",
      "__________________________________________________________________________________________________\n",
      " Layer (type)                Output Shape                 Param #   Connected to                  \n",
      "==================================================================================================\n",
      " input_1 (InputLayer)        [(None,)]                    0         []                            \n",
      "                                                                                                  \n",
      " keras_layer (KerasLayer)    {'input_type_ids': (None,    0         ['input_1[0][0]']             \n",
      "                             128),                                                                \n",
      "                              'input_word_ids': (None,                                            \n",
      "                             128),                                                                \n",
      "                              'input_mask': (None, 128)                                           \n",
      "                             }                                                                    \n",
      "                                                                                                  \n",
      " keras_layer_1 (KerasLayer)  {'pooled_output': (None, 5   4767795   ['keras_layer[0][0]',         \n",
      "                             12),                         3          'keras_layer[0][1]',         \n",
      "                              'encoder_outputs': [(None              'keras_layer[0][2]']         \n",
      "                             , 128, 512),                                                         \n",
      "                              (None, 128, 512),                                                   \n",
      "                              (None, 128, 512),                                                   \n",
      "                              (None, 128, 512),                                                   \n",
      "                              (None, 128, 512),                                                   \n",
      "                              (None, 128, 512),                                                   \n",
      "                              (None, 128, 512),                                                   \n",
      "                              (None, 128, 512),                                                   \n",
      "                              (None, 128, 512),                                                   \n",
      "                              (None, 128, 512)],                                                  \n",
      "                              'sequence_output': (None,                                           \n",
      "                              128, 512),                                                          \n",
      "                              'default': (None, 512)}                                             \n",
      "                                                                                                  \n",
      " dropout1 (Dropout)          (None, 512)                  0         ['keras_layer_1[0][11]']      \n",
      "                                                                                                  \n",
      " dense_1 (Dense)             (None, 64)                   32832     ['dropout1[0][0]']            \n",
      "                                                                                                  \n",
      " dropout2 (Dropout)          (None, 64)                   0         ['dense_1[0][0]']             \n",
      "                                                                                                  \n",
      " output (Dense)              (None, 1)                    65        ['dropout2[0][0]']            \n",
      "                                                                                                  \n",
      "==================================================================================================\n",
      "Total params: 47710850 (182.00 MB)\n",
      "Trainable params: 47710849 (182.00 MB)\n",
      "Non-trainable params: 1 (1.00 Byte)\n",
      "__________________________________________________________________________________________________\n"
     ]
    }
   ],
   "source": [
    "text_input = tf.keras.layers.Input(shape=(), dtype=tf.string)\n",
    "preprocessor = tfhub.KerasLayer(\n",
    "    \"https://kaggle.com/models/tensorflow/bert/frameworks/TensorFlow2/variations/en-uncased-preprocess/versions/3\")\n",
    "encoder_inputs = preprocessor(text_input)\n",
    "encoder = tfhub.KerasLayer(\n",
    "    \"https://www.kaggle.com/models/tensorflow/bert/frameworks/TensorFlow2/variations/bert-en-uncased-l-10-h-512-a-8/versions/2\",\n",
    "    trainable=True)\n",
    "outputs = encoder(encoder_inputs)\n",
    "pooled_output = outputs[\"pooled_output\"]      \n",
    "sequence_output = outputs[\"sequence_output\"] \n",
    "\n",
    "dense_1 = tf.keras.layers.Dense(128 , activation='relu')(pooled_output)\n",
    "dropout = tf.keras.layers.Dropout(0.7 , name=\"dropout1\")(pooled_output)\n",
    "dense_2 = tf.keras.layers.Dense(64 , activation='relu')(dropout)\n",
    "dropout1 = tf.keras.layers.Dropout(0.5 , name=\"dropout2\")(dense_2)\n",
    "dense_3 = tf.keras.layers.Dense(16,activation='relu')(dropout1)\n",
    "\n",
    "dense_out = tf.keras.layers.Dense(1 , activation='sigmoid', name='output')(dropout1)\n",
    "\n",
    "\n",
    "model = tf.keras.Model(inputs=text_input, outputs=dense_out)\n",
    "model.summary()"
   ]
  },
  {
   "cell_type": "code",
   "execution_count": 11,
   "id": "74e25343",
   "metadata": {
    "execution": {
     "iopub.execute_input": "2024-01-13T07:42:41.579820Z",
     "iopub.status.busy": "2024-01-13T07:42:41.579461Z",
     "iopub.status.idle": "2024-01-13T07:42:41.586469Z",
     "shell.execute_reply": "2024-01-13T07:42:41.585669Z"
    },
    "papermill": {
     "duration": 0.018965,
     "end_time": "2024-01-13T07:42:41.588239",
     "exception": false,
     "start_time": "2024-01-13T07:42:41.569274",
     "status": "completed"
    },
    "tags": []
   },
   "outputs": [],
   "source": [
    "def cleantext(data) :\n",
    "    stemtext = []\n",
    "    len_text = []\n",
    "    para = data['text'].tolist()\n",
    "    for paragraph in para:\n",
    "        char = [char for char in paragraph if char not in string.punctuation]\n",
    "        word = \"\".join(char).split(\" \")\n",
    "        words = [word.lower() for word in word if word not in stopwords.words('english')]\n",
    "        stemwords = [SnowballStemmer('english').stem(word) for word in words]\n",
    "        len_text.append(len(stemwords))\n",
    "        stemtext.append(\" \".join(stemwords))\n",
    "    return stemtext , len_text"
   ]
  },
  {
   "cell_type": "code",
   "execution_count": 12,
   "id": "7707f77e",
   "metadata": {
    "execution": {
     "iopub.execute_input": "2024-01-13T07:42:41.607875Z",
     "iopub.status.busy": "2024-01-13T07:42:41.607537Z",
     "iopub.status.idle": "2024-01-13T07:43:01.647726Z",
     "shell.execute_reply": "2024-01-13T07:43:01.646436Z"
    },
    "papermill": {
     "duration": 20.053095,
     "end_time": "2024-01-13T07:43:01.649836",
     "exception": false,
     "start_time": "2024-01-13T07:42:41.596741",
     "status": "completed"
    },
    "tags": []
   },
   "outputs": [
    {
     "name": "stdout",
     "output_type": "stream",
     "text": [
      "[nltk_data] Error loading stopwords: <urlopen error [Errno -3]\n",
      "[nltk_data]     Temporary failure in name resolution>\n"
     ]
    },
    {
     "data": {
      "text/plain": [
       "False"
      ]
     },
     "execution_count": 12,
     "metadata": {},
     "output_type": "execute_result"
    }
   ],
   "source": [
    "import nltk\n",
    "nltk.download('stopwords')"
   ]
  },
  {
   "cell_type": "code",
   "execution_count": 13,
   "id": "e7000866",
   "metadata": {
    "execution": {
     "iopub.execute_input": "2024-01-13T07:43:01.668740Z",
     "iopub.status.busy": "2024-01-13T07:43:01.668304Z",
     "iopub.status.idle": "2024-01-13T07:43:01.675432Z",
     "shell.execute_reply": "2024-01-13T07:43:01.674488Z"
    },
    "papermill": {
     "duration": 0.018976,
     "end_time": "2024-01-13T07:43:01.677367",
     "exception": false,
     "start_time": "2024-01-13T07:43:01.658391",
     "status": "completed"
    },
    "tags": []
   },
   "outputs": [],
   "source": [
    "x_train, x_test ,y_train , y_test = train_test_split(data['text'], data['generated'],test_size=0.2)\n"
   ]
  },
  {
   "cell_type": "code",
   "execution_count": 14,
   "id": "aa4bcedc",
   "metadata": {
    "execution": {
     "iopub.execute_input": "2024-01-13T07:43:01.697144Z",
     "iopub.status.busy": "2024-01-13T07:43:01.696189Z",
     "iopub.status.idle": "2024-01-13T07:49:55.188901Z",
     "shell.execute_reply": "2024-01-13T07:49:55.187532Z"
    },
    "papermill": {
     "duration": 413.50746,
     "end_time": "2024-01-13T07:49:55.193644",
     "exception": false,
     "start_time": "2024-01-13T07:43:01.686184",
     "status": "completed"
    },
    "tags": []
   },
   "outputs": [
    {
     "name": "stdout",
     "output_type": "stream",
     "text": [
      "43/43 [==============================] - 345s 8s/step - loss: 0.4802 - accuracy: 0.7979 - val_loss: 0.0817 - val_accuracy: 0.9853\n"
     ]
    }
   ],
   "source": [
    "model.compile(optimizer=tf.keras.optimizers.Adam(learning_rate= 0.00005),\n",
    "              loss='binary_crossentropy',\n",
    "              metrics=[\"accuracy\"])\n",
    "metric = 'val_accuracy'\n",
    "checkpoint_filepath = 'checkpoint.hdf5'\n",
    "callback_list = [tf.keras.callbacks.ModelCheckpoint(filepath=checkpoint_filepath, \n",
    "                                                    monitor=metric,\n",
    "                                                    verbose=2,\n",
    "                                                    save_best_only=True,\n",
    "                                                    mode='max'), \n",
    "                 tf.keras.callbacks.EarlyStopping(monitor=metric,\n",
    "                                                  patience=0,\n",
    "                                                  restore_best_weights=True)\n",
    "                ]\n",
    "history = model.fit(x_train, y_train , batch_size=32,\n",
    "                    epochs=1 , validation_data=(x_test, y_test))\n",
    "model.save(\"bertmodel_v2\")"
   ]
  },
  {
   "cell_type": "code",
   "execution_count": 15,
   "id": "10c5966d",
   "metadata": {
    "execution": {
     "iopub.execute_input": "2024-01-13T07:49:55.217896Z",
     "iopub.status.busy": "2024-01-13T07:49:55.217553Z",
     "iopub.status.idle": "2024-01-13T07:49:55.232430Z",
     "shell.execute_reply": "2024-01-13T07:49:55.231289Z"
    },
    "papermill": {
     "duration": 0.029516,
     "end_time": "2024-01-13T07:49:55.234656",
     "exception": false,
     "start_time": "2024-01-13T07:49:55.205140",
     "status": "completed"
    },
    "tags": []
   },
   "outputs": [
    {
     "data": {
      "text/html": [
       "<div>\n",
       "<style scoped>\n",
       "    .dataframe tbody tr th:only-of-type {\n",
       "        vertical-align: middle;\n",
       "    }\n",
       "\n",
       "    .dataframe tbody tr th {\n",
       "        vertical-align: top;\n",
       "    }\n",
       "\n",
       "    .dataframe thead th {\n",
       "        text-align: right;\n",
       "    }\n",
       "</style>\n",
       "<table border=\"1\" class=\"dataframe\">\n",
       "  <thead>\n",
       "    <tr style=\"text-align: right;\">\n",
       "      <th></th>\n",
       "      <th>id</th>\n",
       "      <th>prompt_id</th>\n",
       "      <th>text</th>\n",
       "    </tr>\n",
       "  </thead>\n",
       "  <tbody>\n",
       "    <tr>\n",
       "      <th>0</th>\n",
       "      <td>0000aaaa</td>\n",
       "      <td>2</td>\n",
       "      <td>Aaa bbb ccc.</td>\n",
       "    </tr>\n",
       "    <tr>\n",
       "      <th>1</th>\n",
       "      <td>1111bbbb</td>\n",
       "      <td>3</td>\n",
       "      <td>Bbb ccc ddd.</td>\n",
       "    </tr>\n",
       "    <tr>\n",
       "      <th>2</th>\n",
       "      <td>2222cccc</td>\n",
       "      <td>4</td>\n",
       "      <td>CCC ddd eee.</td>\n",
       "    </tr>\n",
       "  </tbody>\n",
       "</table>\n",
       "</div>"
      ],
      "text/plain": [
       "         id  prompt_id          text\n",
       "0  0000aaaa          2  Aaa bbb ccc.\n",
       "1  1111bbbb          3  Bbb ccc ddd.\n",
       "2  2222cccc          4  CCC ddd eee."
      ]
     },
     "execution_count": 15,
     "metadata": {},
     "output_type": "execute_result"
    }
   ],
   "source": [
    "final_test = pd.read_csv('/kaggle/input/llm-detect-ai-generated-text/test_essays.csv')\n",
    "final_test"
   ]
  },
  {
   "cell_type": "code",
   "execution_count": 16,
   "id": "cf7990fb",
   "metadata": {
    "execution": {
     "iopub.execute_input": "2024-01-13T07:49:55.259305Z",
     "iopub.status.busy": "2024-01-13T07:49:55.258563Z",
     "iopub.status.idle": "2024-01-13T07:49:55.271125Z",
     "shell.execute_reply": "2024-01-13T07:49:55.269989Z"
    },
    "papermill": {
     "duration": 0.027634,
     "end_time": "2024-01-13T07:49:55.273671",
     "exception": false,
     "start_time": "2024-01-13T07:49:55.246037",
     "status": "completed"
    },
    "tags": []
   },
   "outputs": [],
   "source": [
    "test_text = cleantext(final_test)[0]\n",
    "final_test['text'] = test_text"
   ]
  },
  {
   "cell_type": "code",
   "execution_count": 17,
   "id": "39f6b5f1",
   "metadata": {
    "execution": {
     "iopub.execute_input": "2024-01-13T07:49:55.298734Z",
     "iopub.status.busy": "2024-01-13T07:49:55.298363Z",
     "iopub.status.idle": "2024-01-13T07:49:56.309653Z",
     "shell.execute_reply": "2024-01-13T07:49:56.308665Z"
    },
    "papermill": {
     "duration": 1.025802,
     "end_time": "2024-01-13T07:49:56.311397",
     "exception": false,
     "start_time": "2024-01-13T07:49:55.285595",
     "status": "completed"
    },
    "tags": []
   },
   "outputs": [
    {
     "name": "stdout",
     "output_type": "stream",
     "text": [
      "1/1 [==============================] - 1s 952ms/step\n"
     ]
    },
    {
     "data": {
      "text/plain": [
       "array([[0.37919462],\n",
       "       [0.45723438],\n",
       "       [0.38924393]], dtype=float32)"
      ]
     },
     "execution_count": 17,
     "metadata": {},
     "output_type": "execute_result"
    }
   ],
   "source": [
    "pred = model.predict(final_test['text'].values)\n",
    "pred"
   ]
  },
  {
   "cell_type": "code",
   "execution_count": 18,
   "id": "6ae49aeb",
   "metadata": {
    "execution": {
     "iopub.execute_input": "2024-01-13T07:49:56.396203Z",
     "iopub.status.busy": "2024-01-13T07:49:56.395155Z",
     "iopub.status.idle": "2024-01-13T07:49:56.402672Z",
     "shell.execute_reply": "2024-01-13T07:49:56.401259Z"
    },
    "papermill": {
     "duration": 0.023507,
     "end_time": "2024-01-13T07:49:56.405401",
     "exception": false,
     "start_time": "2024-01-13T07:49:56.381894",
     "status": "completed"
    },
    "tags": []
   },
   "outputs": [
    {
     "data": {
      "text/plain": [
       "array([0.37919462, 0.45723438, 0.38924393], dtype=float32)"
      ]
     },
     "execution_count": 18,
     "metadata": {},
     "output_type": "execute_result"
    }
   ],
   "source": [
    "test_result = pred[:,0]\n",
    "test_result"
   ]
  },
  {
   "cell_type": "code",
   "execution_count": 19,
   "id": "8f4f8818",
   "metadata": {
    "execution": {
     "iopub.execute_input": "2024-01-13T07:49:56.431402Z",
     "iopub.status.busy": "2024-01-13T07:49:56.430779Z",
     "iopub.status.idle": "2024-01-13T07:49:56.440341Z",
     "shell.execute_reply": "2024-01-13T07:49:56.439333Z"
    },
    "papermill": {
     "duration": 0.025266,
     "end_time": "2024-01-13T07:49:56.442665",
     "exception": false,
     "start_time": "2024-01-13T07:49:56.417399",
     "status": "completed"
    },
    "tags": []
   },
   "outputs": [
    {
     "data": {
      "text/html": [
       "<div>\n",
       "<style scoped>\n",
       "    .dataframe tbody tr th:only-of-type {\n",
       "        vertical-align: middle;\n",
       "    }\n",
       "\n",
       "    .dataframe tbody tr th {\n",
       "        vertical-align: top;\n",
       "    }\n",
       "\n",
       "    .dataframe thead th {\n",
       "        text-align: right;\n",
       "    }\n",
       "</style>\n",
       "<table border=\"1\" class=\"dataframe\">\n",
       "  <thead>\n",
       "    <tr style=\"text-align: right;\">\n",
       "      <th></th>\n",
       "      <th>id</th>\n",
       "      <th>generated</th>\n",
       "    </tr>\n",
       "  </thead>\n",
       "  <tbody>\n",
       "    <tr>\n",
       "      <th>0</th>\n",
       "      <td>0000aaaa</td>\n",
       "      <td>0.379195</td>\n",
       "    </tr>\n",
       "    <tr>\n",
       "      <th>1</th>\n",
       "      <td>1111bbbb</td>\n",
       "      <td>0.457234</td>\n",
       "    </tr>\n",
       "    <tr>\n",
       "      <th>2</th>\n",
       "      <td>2222cccc</td>\n",
       "      <td>0.389244</td>\n",
       "    </tr>\n",
       "  </tbody>\n",
       "</table>\n",
       "</div>"
      ],
      "text/plain": [
       "         id  generated\n",
       "0  0000aaaa   0.379195\n",
       "1  1111bbbb   0.457234\n",
       "2  2222cccc   0.389244"
      ]
     },
     "execution_count": 19,
     "metadata": {},
     "output_type": "execute_result"
    }
   ],
   "source": [
    "final_submission = pd.DataFrame(final_test['id'])\n",
    "final_submission['generated'] = test_result\n",
    "final_submission"
   ]
  },
  {
   "cell_type": "code",
   "execution_count": 20,
   "id": "89c226e7",
   "metadata": {
    "execution": {
     "iopub.execute_input": "2024-01-13T07:49:56.468231Z",
     "iopub.status.busy": "2024-01-13T07:49:56.467857Z",
     "iopub.status.idle": "2024-01-13T07:49:56.475824Z",
     "shell.execute_reply": "2024-01-13T07:49:56.474799Z"
    },
    "papermill": {
     "duration": 0.022964,
     "end_time": "2024-01-13T07:49:56.477859",
     "exception": false,
     "start_time": "2024-01-13T07:49:56.454895",
     "status": "completed"
    },
    "tags": []
   },
   "outputs": [],
   "source": [
    "final_submission.to_csv('submission.csv', index=False)"
   ]
  },
  {
   "cell_type": "code",
   "execution_count": null,
   "id": "1cb9da62",
   "metadata": {
    "papermill": {
     "duration": 0.011467,
     "end_time": "2024-01-13T07:49:56.501349",
     "exception": false,
     "start_time": "2024-01-13T07:49:56.489882",
     "status": "completed"
    },
    "tags": []
   },
   "outputs": [],
   "source": []
  }
 ],
 "metadata": {
  "kaggle": {
   "accelerator": "none",
   "dataSources": [
    {
     "databundleVersionId": 6888007,
     "sourceId": 61542,
     "sourceType": "competition"
    },
    {
     "datasetId": 4293877,
     "sourceId": 7387251,
     "sourceType": "datasetVersion"
    },
    {
     "modelInstanceId": 4679,
     "sourceId": 6058,
     "sourceType": "modelInstanceVersion"
    },
    {
     "modelInstanceId": 4689,
     "sourceId": 6068,
     "sourceType": "modelInstanceVersion"
    },
    {
     "modelInstanceId": 2180,
     "sourceId": 2938,
     "sourceType": "modelInstanceVersion"
    },
    {
     "modelInstanceId": 1901,
     "sourceId": 2626,
     "sourceType": "modelInstanceVersion"
    }
   ],
   "dockerImageVersionId": 30635,
   "isGpuEnabled": false,
   "isInternetEnabled": false,
   "language": "python",
   "sourceType": "notebook"
  },
  "kernelspec": {
   "display_name": "Python 3",
   "language": "python",
   "name": "python3"
  },
  "language_info": {
   "codemirror_mode": {
    "name": "ipython",
    "version": 3
   },
   "file_extension": ".py",
   "mimetype": "text/x-python",
   "name": "python",
   "nbconvert_exporter": "python",
   "pygments_lexer": "ipython3",
   "version": "3.10.12"
  },
  "papermill": {
   "default_parameters": {},
   "duration": 475.50926,
   "end_time": "2024-01-13T07:49:59.383251",
   "environment_variables": {},
   "exception": null,
   "input_path": "__notebook__.ipynb",
   "output_path": "__notebook__.ipynb",
   "parameters": {},
   "start_time": "2024-01-13T07:42:03.873991",
   "version": "2.4.0"
  }
 },
 "nbformat": 4,
 "nbformat_minor": 5
}
